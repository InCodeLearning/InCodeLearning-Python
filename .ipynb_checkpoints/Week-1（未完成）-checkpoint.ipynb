{
 "cells": [
  {
   "cell_type": "markdown",
   "metadata": {},
   "source": [
    "### Python 进阶 (Week 1)\n",
    "\n",
    "#### by Mingzhang\n",
    "------------------------------------------------------------------"
   ]
  },
  {
   "cell_type": "markdown",
   "metadata": {},
   "source": [
    "#### Outline\n",
    "* Byte and bit\n",
    "* Integers in Python\n",
    "* Floats in Python\n",
    "* Jupyter Notebook Tips\n",
    "* etc."
   ]
  },
  {
   "cell_type": "code",
   "execution_count": 3,
   "metadata": {
    "collapsed": false
   },
   "outputs": [
    {
     "name": "stdout",
     "output_type": "stream",
     "text": [
      "11\n",
      "3\n"
     ]
    }
   ],
   "source": [
    "#将字符串转换成数字\n",
    "s = \"11\"\n",
    "d = int(s) #等同于 int(s, 10)\n",
    "b = int(s, 2)\n",
    "print(d)\n",
    "print(b)"
   ]
  },
  {
   "cell_type": "code",
   "execution_count": 4,
   "metadata": {
    "collapsed": false
   },
   "outputs": [
    {
     "name": "stdout",
     "output_type": "stream",
     "text": [
      "4\n",
      "2\n",
      "(4, 2)\n"
     ]
    }
   ],
   "source": [
    "print(34//8) #求商\n",
    "print(34%8) #求余\n",
    "print(divmod(34, 8)) #求商和余数"
   ]
  },
  {
   "cell_type": "code",
   "execution_count": 10,
   "metadata": {
    "collapsed": false
   },
   "outputs": [
    {
     "name": "stdout",
     "output_type": "stream",
     "text": [
      "0.0\n",
      "0.0\n",
      "100.0\n",
      "1300.0\n",
      "1400.0\n",
      "3.0\n",
      "3.1\n",
      "3.14\n",
      "3.2\n"
     ]
    }
   ],
   "source": [
    "print(round(3.14, -2))\n",
    "print(round(13.14, -2))\n",
    "print(round(131.45, -2))\n",
    "print(round(1314.56, -2))\n",
    "print(round(1356.23, -2))\n",
    "print(round(3.14, 0))\n",
    "print(round(3.14, 1))\n",
    "print(round(3.14, 3))\n",
    "print(round(3.16, 1))"
   ]
  },
  {
   "cell_type": "code",
   "execution_count": 11,
   "metadata": {
    "collapsed": false
   },
   "outputs": [
    {
     "data": {
      "text/plain": [
       "0.8999999999999999"
      ]
     },
     "execution_count": 11,
     "metadata": {},
     "output_type": "execute_result"
    }
   ],
   "source": [
    "0.3 * 3"
   ]
  },
  {
   "cell_type": "code",
   "execution_count": 19,
   "metadata": {
    "collapsed": false
   },
   "outputs": [
    {
     "data": {
      "text/plain": [
       "0.9999999999999999"
      ]
     },
     "execution_count": 19,
     "metadata": {},
     "output_type": "execute_result"
    }
   ],
   "source": [
    "sum(0.1 for i in range(10))"
   ]
  },
  {
   "cell_type": "code",
   "execution_count": 18,
   "metadata": {
    "collapsed": false
   },
   "outputs": [
    {
     "name": "stdout",
     "output_type": "stream",
     "text": [
      "3/2\n",
      "True\n"
     ]
    }
   ],
   "source": [
    "from fractions import Fraction\n",
    "\n",
    "a = Fraction(3, 2)\n",
    "print(a)\n",
    "print(a == 1.5)"
   ]
  },
  {
   "cell_type": "code",
   "execution_count": 22,
   "metadata": {
    "collapsed": false
   },
   "outputs": [
    {
     "name": "stdout",
     "output_type": "stream",
     "text": [
      "False\n",
      "True\n"
     ]
    }
   ],
   "source": [
    "from decimal import Decimal\n",
    "\n",
    "print(sum(0.1 for i in range(10)) == 1)\n",
    "print(sum(Decimal(\"0.1\") for i in range(10)) == 1)"
   ]
  },
  {
   "cell_type": "code",
   "execution_count": null,
   "metadata": {
    "collapsed": true
   },
   "outputs": [],
   "source": []
  }
 ],
 "metadata": {
  "kernelspec": {
   "display_name": "Python 3",
   "language": "python",
   "name": "python3"
  },
  "language_info": {
   "codemirror_mode": {
    "name": "ipython",
    "version": 3
   },
   "file_extension": ".py",
   "mimetype": "text/x-python",
   "name": "python",
   "nbconvert_exporter": "python",
   "pygments_lexer": "ipython3",
   "version": "3.5.1"
  }
 },
 "nbformat": 4,
 "nbformat_minor": 0
}
